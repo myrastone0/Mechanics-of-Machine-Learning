{
 "cells": [
  {
   "cell_type": "markdown",
   "metadata": {},
   "source": [
    "# A First Taste of Machine Learning\n",
    "\n",
    "Notes on Chapter 1 of the above book by Terence Parr and Jeremy Howard. The book is a work in progress, so there will be changes in future.\n",
    "\n",
    "Chapter 1 introduces a task: Predict the rent of an apartment in NYC given the number of bedrooms, bathroom, and the location (latitude and longitude).\n",
    "\n",
    "Discusses decision tree and random forest models.\n",
    "\n",
    "- How to train a model on the data.\n",
    "- How to test the trained model with the trained data.\n",
    "- How to improve the trained model.\n",
    "\n",
    "- How to validate the model using testing data.<br> - split data <br>- _k_-fold cross validation\n",
    "\n",
    "- How to compare the performance of one model compared to another. <br> - e.g. random forest vs linear regression vs gradient boosting"
   ]
  },
  {
   "cell_type": "code",
   "execution_count": 1,
   "metadata": {},
   "outputs": [],
   "source": [
    "%load_ext autoreload\n",
    "%autoreload 2\n",
    "%matplotlib inline"
   ]
  },
  {
   "cell_type": "code",
   "execution_count": 67,
   "metadata": {},
   "outputs": [],
   "source": [
    "import pandas as pd\n",
    "import scipy\n",
    "import numpy\n",
    "\n",
    "from sklearn.ensemble import RandomForestRegressor, GradientBoostingRegressor\n",
    "from sklearn.metrics import mean_absolute_error\n",
    "from sklearn.model_selection import train_test_split\n",
    "from sklearn.model_selection import cross_val_score\n",
    "from sklearn import linear_model\n",
    "\n",
    "import matplotlib\n",
    "from matplotlib.offsetbox import AnchoredText\n",
    "from matplotlib import rc, rcParams\n",
    "labelSize = 8\n",
    "matplotlib.rcParams['xtick.labelsize'] = labelSize\n",
    "matplotlib.rcParams['ytick.labelsize'] = labelSize\n",
    "plt.style.use('ggplot')"
   ]
  },
  {
   "cell_type": "markdown",
   "metadata": {},
   "source": [
    "## The Data\n",
    "\n",
    "We are looking at four features of NYC apartments (number of bedrooms, number of bathroom, latitude and longitude) and their subsequent rents."
   ]
  },
  {
   "cell_type": "code",
   "execution_count": 3,
   "metadata": {},
   "outputs": [],
   "source": [
    "df = pd.read_csv('data/rent-ideal.csv')"
   ]
  },
  {
   "cell_type": "code",
   "execution_count": 4,
   "metadata": {},
   "outputs": [
    {
     "data": {
      "text/html": [
       "<div>\n",
       "<style scoped>\n",
       "    .dataframe tbody tr th:only-of-type {\n",
       "        vertical-align: middle;\n",
       "    }\n",
       "\n",
       "    .dataframe tbody tr th {\n",
       "        vertical-align: top;\n",
       "    }\n",
       "\n",
       "    .dataframe thead th {\n",
       "        text-align: right;\n",
       "    }\n",
       "</style>\n",
       "<table border=\"1\" class=\"dataframe\">\n",
       "  <thead>\n",
       "    <tr style=\"text-align: right;\">\n",
       "      <th></th>\n",
       "      <th>bedrooms</th>\n",
       "      <th>bathrooms</th>\n",
       "      <th>latitude</th>\n",
       "      <th>longitude</th>\n",
       "      <th>price</th>\n",
       "    </tr>\n",
       "  </thead>\n",
       "  <tbody>\n",
       "    <tr>\n",
       "      <th>0</th>\n",
       "      <td>3</td>\n",
       "      <td>1.5</td>\n",
       "      <td>40.7145</td>\n",
       "      <td>-73.9425</td>\n",
       "      <td>3000</td>\n",
       "    </tr>\n",
       "    <tr>\n",
       "      <th>1</th>\n",
       "      <td>2</td>\n",
       "      <td>1.0</td>\n",
       "      <td>40.7947</td>\n",
       "      <td>-73.9667</td>\n",
       "      <td>5465</td>\n",
       "    </tr>\n",
       "    <tr>\n",
       "      <th>2</th>\n",
       "      <td>1</td>\n",
       "      <td>1.0</td>\n",
       "      <td>40.7388</td>\n",
       "      <td>-74.0018</td>\n",
       "      <td>2850</td>\n",
       "    </tr>\n",
       "    <tr>\n",
       "      <th>3</th>\n",
       "      <td>1</td>\n",
       "      <td>1.0</td>\n",
       "      <td>40.7539</td>\n",
       "      <td>-73.9677</td>\n",
       "      <td>3275</td>\n",
       "    </tr>\n",
       "    <tr>\n",
       "      <th>4</th>\n",
       "      <td>4</td>\n",
       "      <td>1.0</td>\n",
       "      <td>40.8241</td>\n",
       "      <td>-73.9493</td>\n",
       "      <td>3350</td>\n",
       "    </tr>\n",
       "  </tbody>\n",
       "</table>\n",
       "</div>"
      ],
      "text/plain": [
       "   bedrooms  bathrooms  latitude  longitude  price\n",
       "0         3        1.5   40.7145   -73.9425   3000\n",
       "1         2        1.0   40.7947   -73.9667   5465\n",
       "2         1        1.0   40.7388   -74.0018   2850\n",
       "3         1        1.0   40.7539   -73.9677   3275\n",
       "4         4        1.0   40.8241   -73.9493   3350"
      ]
     },
     "execution_count": 4,
     "metadata": {},
     "output_type": "execute_result"
    }
   ],
   "source": [
    "df.head()"
   ]
  },
  {
   "cell_type": "code",
   "execution_count": 5,
   "metadata": {},
   "outputs": [
    {
     "data": {
      "text/plain": [
       "(48266, 5)"
      ]
     },
     "execution_count": 5,
     "metadata": {},
     "output_type": "execute_result"
    }
   ],
   "source": [
    "df.shape"
   ]
  },
  {
   "cell_type": "code",
   "execution_count": 6,
   "metadata": {},
   "outputs": [
    {
     "data": {
      "text/plain": [
       "bedrooms     0\n",
       "bathrooms    0\n",
       "latitude     0\n",
       "longitude    0\n",
       "price        0\n",
       "dtype: int64"
      ]
     },
     "execution_count": 6,
     "metadata": {},
     "output_type": "execute_result"
    }
   ],
   "source": [
    "df.isnull().sum()"
   ]
  },
  {
   "cell_type": "code",
   "execution_count": 7,
   "metadata": {},
   "outputs": [
    {
     "data": {
      "text/plain": [
       "bedrooms       int64\n",
       "bathrooms    float64\n",
       "latitude     float64\n",
       "longitude    float64\n",
       "price          int64\n",
       "dtype: object"
      ]
     },
     "execution_count": 7,
     "metadata": {},
     "output_type": "execute_result"
    }
   ],
   "source": [
    "df.dtypes"
   ]
  },
  {
   "cell_type": "code",
   "execution_count": 8,
   "metadata": {},
   "outputs": [],
   "source": [
    "# Group the data by number of bathrooms and take the mean of the other features.\n",
    "bybaths = df.groupby(['bathrooms']).mean()"
   ]
  },
  {
   "cell_type": "code",
   "execution_count": 26,
   "metadata": {},
   "outputs": [
    {
     "data": {
      "text/html": [
       "<div>\n",
       "<style scoped>\n",
       "    .dataframe tbody tr th:only-of-type {\n",
       "        vertical-align: middle;\n",
       "    }\n",
       "\n",
       "    .dataframe tbody tr th {\n",
       "        vertical-align: top;\n",
       "    }\n",
       "\n",
       "    .dataframe thead th {\n",
       "        text-align: right;\n",
       "    }\n",
       "</style>\n",
       "<table border=\"1\" class=\"dataframe\">\n",
       "  <thead>\n",
       "    <tr style=\"text-align: right;\">\n",
       "      <th></th>\n",
       "      <th>bathrooms</th>\n",
       "      <th>price</th>\n",
       "    </tr>\n",
       "  </thead>\n",
       "  <tbody>\n",
       "    <tr>\n",
       "      <th>0</th>\n",
       "      <td>0.0</td>\n",
       "      <td>3144.870000</td>\n",
       "    </tr>\n",
       "    <tr>\n",
       "      <th>1</th>\n",
       "      <td>1.0</td>\n",
       "      <td>3028.111035</td>\n",
       "    </tr>\n",
       "    <tr>\n",
       "      <th>2</th>\n",
       "      <td>1.5</td>\n",
       "      <td>4226.336449</td>\n",
       "    </tr>\n",
       "    <tr>\n",
       "      <th>3</th>\n",
       "      <td>2.0</td>\n",
       "      <td>5278.595739</td>\n",
       "    </tr>\n",
       "    <tr>\n",
       "      <th>4</th>\n",
       "      <td>2.5</td>\n",
       "      <td>6869.047368</td>\n",
       "    </tr>\n",
       "    <tr>\n",
       "      <th>5</th>\n",
       "      <td>3.0</td>\n",
       "      <td>6897.974576</td>\n",
       "    </tr>\n",
       "    <tr>\n",
       "      <th>6</th>\n",
       "      <td>3.5</td>\n",
       "      <td>7635.357143</td>\n",
       "    </tr>\n",
       "    <tr>\n",
       "      <th>7</th>\n",
       "      <td>4.0</td>\n",
       "      <td>7422.888889</td>\n",
       "    </tr>\n",
       "    <tr>\n",
       "      <th>8</th>\n",
       "      <td>4.5</td>\n",
       "      <td>2050.000000</td>\n",
       "    </tr>\n",
       "    <tr>\n",
       "      <th>9</th>\n",
       "      <td>10.0</td>\n",
       "      <td>3600.000000</td>\n",
       "    </tr>\n",
       "  </tbody>\n",
       "</table>\n",
       "</div>"
      ],
      "text/plain": [
       "   bathrooms        price\n",
       "0        0.0  3144.870000\n",
       "1        1.0  3028.111035\n",
       "2        1.5  4226.336449\n",
       "3        2.0  5278.595739\n",
       "4        2.5  6869.047368\n",
       "5        3.0  6897.974576\n",
       "6        3.5  7635.357143\n",
       "7        4.0  7422.888889\n",
       "8        4.5  2050.000000\n",
       "9       10.0  3600.000000"
      ]
     },
     "execution_count": 26,
     "metadata": {},
     "output_type": "execute_result"
    }
   ],
   "source": [
    "bybaths = bybaths.reset_index() # overcome quirk in Pandas\n",
    "bybaths[['bathrooms','price']]"
   ]
  },
  {
   "cell_type": "code",
   "execution_count": 20,
   "metadata": {},
   "outputs": [
    {
     "data": {
      "image/png": "[encoded data removed]",
      "text/plain": [
       "<Figure size 432x288 with 1 Axes>"
      ]
     },
     "metadata": {},
     "output_type": "display_data"
    }
   ],
   "source": [
    "bybaths.plot.line('bathrooms','price',color='slateblue',style='-o')\n",
    "plt.show()"
   ]
  },
  {
   "cell_type": "markdown",
   "metadata": {},
   "source": [
    "## Training a Random Forest\n",
    "\n",
    "Double square brackets will return a column as a data frame.\n",
    "Single square brackets will return a column as a series."
   ]
  },
  {
   "cell_type": "code",
   "execution_count": 29,
   "metadata": {},
   "outputs": [],
   "source": [
    "# Get the features (the predictors) and the target values.\n",
    "X, y = df[['bathrooms']], df['price']"
   ]
  },
  {
   "cell_type": "code",
   "execution_count": 30,
   "metadata": {},
   "outputs": [],
   "source": [
    "# Train a random forest on the apartment data.\n",
    "rf = RandomForestRegressor()\n",
    "rf.fit(X,y)  # prettier way of calling a function and a method inside it"
   ]
  },
  {
   "cell_type": "markdown",
   "metadata": {},
   "source": [
    "Now we can make a prediction with one or more feature vectors."
   ]
  },
  {
   "cell_type": "code",
   "execution_count": 32,
   "metadata": {},
   "outputs": [
    {
     "data": {
      "text/plain": [
       "array([3140.98233638, 3029.57991952])"
      ]
     },
     "execution_count": 32,
     "metadata": {},
     "output_type": "execute_result"
    }
   ],
   "source": [
    "rf.predict([[0],[1]])"
   ]
  },
  {
   "cell_type": "markdown",
   "metadata": {},
   "source": [
    "We now have the predicted prices for apartments with 0 bathrooms and 1 bathroom, respectively. Although it seems a bit weird for a 0-bath apartment to be more expensive than a 1-bath, this is what the plotted data shows. So, seems like the model has captured the underlying relationship between bathrooms and prices in the training data."
   ]
  },
  {
   "cell_type": "markdown",
   "metadata": {},
   "source": [
    "## Testing the Model\n",
    "\n",
    "First, we verify that the model fits the training data well. So, does the model accurately capture the relationship between features and target values?\n",
    "\n",
    "We verify by passing the feature vectors of the training data back into the model and compare the predictions with the actual target values."
   ]
  },
  {
   "cell_type": "code",
   "execution_count": 41,
   "metadata": {},
   "outputs": [],
   "source": [
    "# Feed the data back into the model. Here it's just the number of bathrooms b/c that's what we trained the model on.\n",
    "predictions = rf.predict(X)"
   ]
  },
  {
   "cell_type": "markdown",
   "metadata": {},
   "source": [
    "#### Mean Absolute Error (an error metric)\n",
    "\n",
    "Now we need to measure the error between our predictions and the actual data. Here we'll compute the difference in price prediction and actual price for each apartment in the training data, take the absolute value of the difference, and calculate the mean of all of the difference values."
   ]
  },
  {
   "cell_type": "code",
   "execution_count": 44,
   "metadata": {},
   "outputs": [
    {
     "name": "stdout",
     "output_type": "stream",
     "text": [
      "808 average error; 23.48 % error\n"
     ]
    }
   ],
   "source": [
    "err = mean_absolute_error(y, predictions)\n",
    "print(f'{err:.0f} average error; {err*100./y.mean():.2f} % error')"
   ]
  },
  {
   "cell_type": "markdown",
   "metadata": {},
   "source": [
    "## Improving the Model\n",
    "\n",
    "We have trained the model using just one feature, number of bathrooms. We can improve the prediction accuracy of our model by including more features. So, let's train on number of bathrooms and bedrooms."
   ]
  },
  {
   "cell_type": "code",
   "execution_count": 46,
   "metadata": {},
   "outputs": [
    {
     "data": {
      "text/plain": [
       "RandomForestRegressor(bootstrap=True, criterion='mse', max_depth=None,\n",
       "           max_features='auto', max_leaf_nodes=None,\n",
       "           min_impurity_decrease=0.0, min_impurity_split=None,\n",
       "           min_samples_leaf=1, min_samples_split=2,\n",
       "           min_weight_fraction_leaf=0.0, n_estimators=10, n_jobs=1,\n",
       "           oob_score=False, random_state=None, verbose=0, warm_start=False)"
      ]
     },
     "execution_count": 46,
     "metadata": {},
     "output_type": "execute_result"
    }
   ],
   "source": [
    "X, y = df[['bathrooms','bedrooms']], df['price']\n",
    "\n",
    "rf = RandomForestRegressor()\n",
    "rf.fit(X,y)"
   ]
  },
  {
   "cell_type": "markdown",
   "metadata": {},
   "source": [
    "And once again, we'll see how well our model does."
   ]
  },
  {
   "cell_type": "code",
   "execution_count": 47,
   "metadata": {},
   "outputs": [
    {
     "name": "stdout",
     "output_type": "stream",
     "text": [
      "723 average error; 21.01 % error\n"
     ]
    }
   ],
   "source": [
    "predictions = rf.predict(X)\n",
    "err = mean_absolute_error(y, predictions)\n",
    "print(f'{err:.0f} average error; {err*100./y.mean():.2f} % error')"
   ]
  },
  {
   "cell_type": "markdown",
   "metadata": {},
   "source": [
    "We have an improvement in prediction. 808 - 723 = \\$86 or around a 10\\% improvement. Not a huge improvement so this hints that bedrooms may not be as important of a predictor as bathrooms.\n",
    "\n",
    "Let's see if we can do even better by just using location information."
   ]
  },
  {
   "cell_type": "code",
   "execution_count": 48,
   "metadata": {},
   "outputs": [
    {
     "data": {
      "text/plain": [
       "RandomForestRegressor(bootstrap=True, criterion='mse', max_depth=None,\n",
       "           max_features='auto', max_leaf_nodes=None,\n",
       "           min_impurity_decrease=0.0, min_impurity_split=None,\n",
       "           min_samples_leaf=1, min_samples_split=2,\n",
       "           min_weight_fraction_leaf=0.0, n_estimators=10, n_jobs=1,\n",
       "           oob_score=False, random_state=None, verbose=0, warm_start=False)"
      ]
     },
     "execution_count": 48,
     "metadata": {},
     "output_type": "execute_result"
    }
   ],
   "source": [
    "X, y = df[['latitude','longitude']], df['price']\n",
    "\n",
    "rf = RandomForestRegressor()\n",
    "rf.fit(X,y)"
   ]
  },
  {
   "cell_type": "code",
   "execution_count": 49,
   "metadata": {},
   "outputs": [
    {
     "name": "stdout",
     "output_type": "stream",
     "text": [
      "523 average error; 15.21 % error\n"
     ]
    }
   ],
   "source": [
    "predictions = rf.predict(X)\n",
    "err = mean_absolute_error(y, predictions)\n",
    "print(f'{err:.0f} average error; {err*100./y.mean():.2f} % error')"
   ]
  },
  {
   "cell_type": "markdown",
   "metadata": {},
   "source": [
    "One may think that the improvement in error between bed/bath and lat/long is only 21-15=6\\%. \n",
    "\n",
    "It's better to think of the ratio 15/21=71\\% which tells us that our prediction error relative to the average rent price got 100-71=29\\% better.\n",
    "\n",
    "\n",
    "Great! Now let's see what how including all 4 predictors performs."
   ]
  },
  {
   "cell_type": "code",
   "execution_count": 51,
   "metadata": {},
   "outputs": [
    {
     "name": "stdout",
     "output_type": "stream",
     "text": [
      "$189 average error; 5.51% error\n"
     ]
    }
   ],
   "source": [
    "X, y = df[['bedrooms','bathrooms','latitude','longitude']], df['price']\n",
    "rf = RandomForestRegressor()\n",
    "rf.fit(X, y)\n",
    "e = mean_absolute_error(y, rf.predict(X))\n",
    "print(f\"${e:.0f} average error; {e*100.0/y.mean():.2f}% error\")"
   ]
  },
  {
   "cell_type": "markdown",
   "metadata": {},
   "source": [
    "Pretty darn good. But don't get too excited. This just tells us that our model has captured the relationships in the training data rather well. The true mark of a good model is to determine its performance on test data not yet seen."
   ]
  },
  {
   "cell_type": "markdown",
   "metadata": {},
   "source": [
    "## Model Validation\n",
    "\n",
    "Two common ways to measure the success of a model is to validate by (1) splitting the data into a training set and a test/validation set (e.g. 20\\% testing and 80\\% training) and (2) k-fold cross validation.\n",
    "\n",
    "### Split Data Validation\n",
    "Let's start with splitting the data into two sets."
   ]
  },
  {
   "cell_type": "code",
   "execution_count": 55,
   "metadata": {},
   "outputs": [
    {
     "name": "stdout",
     "output_type": "stream",
     "text": [
      "$302 average error; 8.77% error\n",
      "$190 average error; 5.53 % error\n"
     ]
    }
   ],
   "source": [
    "X, y = df[['bedrooms','bathrooms','latitude','longitude']], df['price']\n",
    "\n",
    "# 80% of the data is for training and 20% is for validating\n",
    "X_train, X_test, y_train, y_test = train_test_split(X, y, test_size=0.2)\n",
    "\n",
    "# Fit the training data.\n",
    "rf = RandomForestRegressor()\n",
    "rf.fit(X_train,y_train)\n",
    "\n",
    "# How does the trained model perform on the test set?\n",
    "e = mean_absolute_error(y_test, rf.predict(X_test))\n",
    "print(f\"${e:.0f} average error; {e*100.0/y.mean():.2f}% error\")\n",
    "\n",
    "err = mean_absolute_error(y_train, rf.predict(X_train))\n",
    "print(f'${err:.0f} average error; {err*100./y.mean():.2f} % error')"
   ]
  },
  {
   "cell_type": "markdown",
   "metadata": {},
   "source": [
    "We see that the model performs about 1/3 better on the training set than on the test set. Although this is to be expected, we want the validation error to be as close to the training error as possible."
   ]
  },
  {
   "cell_type": "markdown",
   "metadata": {},
   "source": [
    "### k-fold Cross Validation\n",
    "\n",
    "Running the split data validation code several times will produce different results with each run due to the randomness with which the data are selected for each set. We want to mitigate this.\n",
    "\n",
    "_k_-fold cross validation repeats the split data validation _k_ times and takes the averages of the _k_ errors to get a final estimate of the validation error. The original data set is split into _k_ equally sized subsets and trains on _k_-1 subsets. The remaining subset is used to test the model.\n",
    "\n",
    "E.g. for _k_=5, 5 subsets are created, the model is trained on subsets 1 through 4, tested on subset 5, and an error is computed. This method is repeated, this time training on subsets 2-5 and tested on subset 1. This continues until all subsets have been used as a training set. The average error from each of these iterations is the final error."
   ]
  },
  {
   "cell_type": "code",
   "execution_count": 57,
   "metadata": {},
   "outputs": [
    {
     "name": "stdout",
     "output_type": "stream",
     "text": [
      "$306 average error +/-$15.87; 8.91% error\n"
     ]
    }
   ],
   "source": [
    "k = 5\n",
    "cv_err = cross_val_score(RandomForestRegressor(),\n",
    "                         X, y, cv=k,\n",
    "                         scoring='neg_mean_absolute_error',\n",
    "                         n_jobs=-1)\n",
    "m_err = -cv_err.mean()\n",
    "std_err = cv_err.std()\n",
    "print(f\"${m_err:.0f} average error +/-${2*std_err:.2f}; {m_err*100.0/y.mean():.2f}% error\")"
   ]
  },
  {
   "cell_type": "code",
   "execution_count": 61,
   "metadata": {},
   "outputs": [],
   "source": [
    "# Function to perform cross-validation.\n",
    "def validate(model):\n",
    "    cv_err = cross_val_score(model, X, y, cv=5, n_jobs=-1,\n",
    "                             scoring='neg_mean_absolute_error')\n",
    "    m_err = -cv_err.mean()\n",
    "    std_err = cv_err.std()\n",
    "    print(f\"${m_err:.0f} average error +/-${2*std_err:.2f}; {m_err*100.0/y.mean():.2f}% error\")"
   ]
  },
  {
   "cell_type": "code",
   "execution_count": 60,
   "metadata": {},
   "outputs": [
    {
     "name": "stdout",
     "output_type": "stream",
     "text": [
      "$299 average error +/-$15.51; 8.70% error\n"
     ]
    }
   ],
   "source": [
    "# Let's try increasing the number of decision trees from the default of 10 to 100.\n",
    "rf = RandomForestRegressor(n_estimators=100)\n",
    "validate(rf)"
   ]
  },
  {
   "cell_type": "markdown",
   "metadata": {},
   "source": [
    "## How to determine which features have the most predictive power?\n",
    "\n",
    "To compute such feature importance, we can compare the validation errors from a model trained using all features and the same model trained with a single feature removed. This difference tells us something about the relative importance of that missing feature. If the validation error goes way up, we know that feature is important. But if the error stays about the same, we can conclude that feature, in isolation, has very little predictive power.\n",
    "\n",
    "This brute force retraining method works and illustrates the idea, but it's more efficient to randomize a feature's column and retest rather than removing and retraining the model. Here's how to print out feature importances with a little help from the `rfpimp` package:"
   ]
  },
  {
   "cell_type": "code",
   "execution_count": 63,
   "metadata": {},
   "outputs": [
    {
     "data": {
      "text/html": [
       "<div>\n",
       "<style scoped>\n",
       "    .dataframe tbody tr th:only-of-type {\n",
       "        vertical-align: middle;\n",
       "    }\n",
       "\n",
       "    .dataframe tbody tr th {\n",
       "        vertical-align: top;\n",
       "    }\n",
       "\n",
       "    .dataframe thead th {\n",
       "        text-align: right;\n",
       "    }\n",
       "</style>\n",
       "<table border=\"1\" class=\"dataframe\">\n",
       "  <thead>\n",
       "    <tr style=\"text-align: right;\">\n",
       "      <th></th>\n",
       "      <th>Importance</th>\n",
       "    </tr>\n",
       "    <tr>\n",
       "      <th>Feature</th>\n",
       "      <th></th>\n",
       "    </tr>\n",
       "  </thead>\n",
       "  <tbody>\n",
       "    <tr>\n",
       "      <th>longitude</th>\n",
       "      <td>0.624722</td>\n",
       "    </tr>\n",
       "    <tr>\n",
       "      <th>bedrooms</th>\n",
       "      <td>0.613327</td>\n",
       "    </tr>\n",
       "    <tr>\n",
       "      <th>latitude</th>\n",
       "      <td>0.562636</td>\n",
       "    </tr>\n",
       "    <tr>\n",
       "      <th>bathrooms</th>\n",
       "      <td>0.492612</td>\n",
       "    </tr>\n",
       "  </tbody>\n",
       "</table>\n",
       "</div>"
      ],
      "text/plain": [
       "           Importance\n",
       "Feature              \n",
       "longitude    0.624722\n",
       "bedrooms     0.613327\n",
       "latitude     0.562636\n",
       "bathrooms    0.492612"
      ]
     },
     "execution_count": 63,
     "metadata": {},
     "output_type": "execute_result"
    }
   ],
   "source": [
    "from rfpimp import *\n",
    "rf = RandomForestRegressor(n_estimators=100)\n",
    "rf.fit(X, y)\n",
    "I = importances(rf, X, y)\n",
    "I"
   ]
  },
  {
   "cell_type": "code",
   "execution_count": 65,
   "metadata": {},
   "outputs": [
    {
     "data": {
      "text/plain": [
       "<matplotlib.axes._subplots.AxesSubplot at 0x11c4e7b38>"
      ]
     },
     "execution_count": 65,
     "metadata": {},
     "output_type": "execute_result"
    },
    {
     "data": {
      "image/png": "[encoded data removed]",
      "text/plain": [
       "<Figure size 432x288 with 1 Axes>"
      ]
     },
     "metadata": {},
     "output_type": "display_data"
    }
   ],
   "source": [
    "I.plot(kind='barh',legend=False,color='slateblue')"
   ]
  },
  {
   "cell_type": "markdown",
   "metadata": {},
   "source": [
    "## Comparing Different Models"
   ]
  },
  {
   "cell_type": "code",
   "execution_count": 66,
   "metadata": {},
   "outputs": [
    {
     "name": "stdout",
     "output_type": "stream",
     "text": [
      "$658 average error +/-$12.66; 19.14% error\n"
     ]
    }
   ],
   "source": [
    "# Linear regression\n",
    "lm = linear_model.LinearRegression() # create linear model\n",
    "lm.fit(X, y)\n",
    "validate(lm)"
   ]
  },
  {
   "cell_type": "markdown",
   "metadata": {},
   "source": [
    "Ouch, the error of the linear model, 19\\%, is more than twice that of the random forest model, 8.7\\%."
   ]
  },
  {
   "cell_type": "code",
   "execution_count": 69,
   "metadata": {},
   "outputs": [
    {
     "name": "stdout",
     "output_type": "stream",
     "text": [
      "$518 average error +/-$7.17; 15.06% error\n"
     ]
    }
   ],
   "source": [
    "# Gradient Boosting\n",
    "gbr = GradientBoostingRegressor() # create boosting model\n",
    "gbr.fit(X_train, y_train)\n",
    "validate(gbr)"
   ]
  }
 ],
 "metadata": {
  "kernelspec": {
   "display_name": "Python 3",
   "language": "python",
   "name": "python3"
  },
  "language_info": {
   "codemirror_mode": {
    "name": "ipython",
    "version": 3
   },
   "file_extension": ".py",
   "mimetype": "text/x-python",
   "name": "python",
   "nbconvert_exporter": "python",
   "pygments_lexer": "ipython3",
   "version": "3.6.6"
  }
 },
 "nbformat": 4,
 "nbformat_minor": 2
}
